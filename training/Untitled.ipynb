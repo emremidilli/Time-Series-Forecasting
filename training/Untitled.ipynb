{
 "cells": [
  {
   "cell_type": "code",
   "execution_count": 10,
   "id": "70217e07-51c5-491f-b48e-5aa80e2979df",
   "metadata": {},
   "outputs": [],
   "source": [
    "import sys\n",
    "sys.path.append( '../')\n",
    "from layers.variable_selection_network import variable_selection_network\n",
    "\n",
    "from models.pre_training import Pre_Training\n",
    "\n",
    "from preprocessing.constants import SIGN_OF_PATCH_PREDICTION_DATA_FOLDER\n",
    "\n",
    "import numpy as np"
   ]
  },
  {
   "cell_type": "code",
   "execution_count": 6,
   "id": "9ce7c56d-e489-4aae-9627-2d5d5f73a96c",
   "metadata": {},
   "outputs": [],
   "source": [
    "oDisERT = Pre_Training()"
   ]
  },
  {
   "cell_type": "code",
   "execution_count": 11,
   "id": "5b1a32f8-dcb6-47d9-95d9-2ac03b950db7",
   "metadata": {},
   "outputs": [],
   "source": [
    "X_qpp = np.load(f'{SIGN_OF_PATCH_PREDICTION_DATA_FOLDER}\\\\X_dist.npy')"
   ]
  }
 ],
 "metadata": {
  "kernelspec": {
   "display_name": "Python 3",
   "language": "python",
   "name": "python3"
  },
  "language_info": {
   "codemirror_mode": {
    "name": "ipython",
    "version": 3
   },
   "file_extension": ".py",
   "mimetype": "text/x-python",
   "name": "python",
   "nbconvert_exporter": "python",
   "pygments_lexer": "ipython3",
   "version": "3.7.10"
  }
 },
 "nbformat": 4,
 "nbformat_minor": 5
}
