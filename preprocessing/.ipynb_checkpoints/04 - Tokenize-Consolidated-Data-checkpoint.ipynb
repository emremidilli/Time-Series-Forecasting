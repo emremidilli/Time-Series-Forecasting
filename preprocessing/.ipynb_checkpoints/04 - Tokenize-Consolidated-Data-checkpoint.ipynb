{
 "cells": [
  {
   "cell_type": "markdown",
   "id": "a9aef3a0-608e-4c0e-8142-c2ea39d42d0c",
   "metadata": {},
   "source": [
    "Input:\n",
    "    \n",
    "    * Consolidated numpy datasets\n",
    "    \n",
    "Output:\n",
    "\n",
    "    * Tokenized data for pre-training purpose. Format:[CLS][Lookback Tokens][SEP][Forecast Tokens][SEP][CNL]..."
   ]
  },
  {
   "cell_type": "code",
   "execution_count": 1,
   "id": "1955d697-2da7-4abb-9926-7e6f2729f293",
   "metadata": {},
   "outputs": [],
   "source": [
    "import numpy as np\n",
    "\n",
    "import constants as c\n",
    "\n",
    "import os\n",
    "\n",
    "import shutil"
   ]
  },
  {
   "cell_type": "code",
   "execution_count": 2,
   "id": "fa8417c9-b5c7-4013-aa59-f5f924682070",
   "metadata": {},
   "outputs": [],
   "source": [
    "CONSOLIDATED_CHANNEL_DATA_FOLDER = c.CONSOLIDATED_CHANNEL_DATA_FOLDER\n",
    "TOKENIZIED_DATA_FOLDER = c.TOKENIZIED_DATA_FOLDER\n",
    "\n",
    "\n",
    "FORECAST_HORIZON = c.FORECAST_HORIZON\n",
    "LOOKBACK_COEFFICIENT = c.LOOKBACK_COEFFICIENT\n",
    "PATCH_SIZE = c.PATCH_SIZE\n",
    "\n",
    "\n",
    "CLS_SCALAR = c.CLS_SCALAR\n",
    "CNL_SCALAR = c.CNL_SCALAR\n",
    "SEP_SCALAR  = c.SEP_SCALAR\n",
    "\n",
    "iNrOfLookbackPatches = int((FORECAST_HORIZON*LOOKBACK_COEFFICIENT)/PATCH_SIZE)\n",
    "iNrOfForecastPatches = int(FORECAST_HORIZON/PATCH_SIZE)"
   ]
  },
  {
   "cell_type": "code",
   "execution_count": 3,
   "id": "52b6abf4-497a-4b65-a25d-e7f389c66eb9",
   "metadata": {},
   "outputs": [],
   "source": [
    "aDistribution = np.load(f'{CONSOLIDATED_CHANNEL_DATA_FOLDER}\\\\distribution.npy')\n",
    "aDynamicDigits = np.load(f'{CONSOLIDATED_CHANNEL_DATA_FOLDER}\\\\dynamic_digits.npy')\n",
    "aTrend = np.load(f'{CONSOLIDATED_CHANNEL_DATA_FOLDER}\\\\trend.npy')\n",
    "aSeasonality = np.load(f'{CONSOLIDATED_CHANNEL_DATA_FOLDER}\\\\seasonality.npy')\n",
    "aKnown = np.load(f'{CONSOLIDATED_CHANNEL_DATA_FOLDER}\\\\knowns.npy')\n",
    "aObserved = np.load(f'{CONSOLIDATED_CHANNEL_DATA_FOLDER}\\\\observeds.npy')"
   ]
  },
  {
   "cell_type": "code",
   "execution_count": 4,
   "id": "7eca0fea-1454-46c9-8e6f-14ff9352152a",
   "metadata": {},
   "outputs": [],
   "source": [
    "if os.path.exists(TOKENIZIED_DATA_FOLDER) == True:\n",
    "    shutil.rmtree(TOKENIZIED_DATA_FOLDER)"
   ]
  },
  {
   "cell_type": "code",
   "execution_count": 5,
   "id": "f86a7c1c-28e5-421d-a431-e26b03e92365",
   "metadata": {},
   "outputs": [],
   "source": [
    "# add [CLS],[CNL] and [SEP] tokens\n",
    "def aAddSpecialTokens(arr):\n",
    "\n",
    "    iNrOfChannels = arr.shape[-1]\n",
    "    iNrOfTimePatches = arr.shape[1]\n",
    "    iNrOfFeatures=  arr.shape[2]\n",
    "    iNrOfSamples = arr.shape[0]\n",
    "\n",
    "    iNrOfFeaturesPerChannel = (iNrOfTimePatches  + 4) # each channel has tokens 1x[CLS], 1x[CNL] and 2x[SEP] (one for end of lookback, one for end of forecast horizon)\n",
    "    iNrOfPositions = iNrOfChannels * iNrOfFeaturesPerChannel  \n",
    "\n",
    "    aToReturn = np.zeros(shape = (iNrOfSamples, iNrOfPositions,iNrOfFeatures )) - 1\n",
    "\n",
    "\n",
    "    for i in range(iNrOfChannels):\n",
    "\n",
    "        iFirstTokenIndex = i * iNrOfFeaturesPerChannel \n",
    "        iLastTokenIndex = iFirstTokenIndex + iNrOfFeaturesPerChannel - 1 \n",
    "\n",
    "\n",
    "        # cls: beginning of each channel.\n",
    "        aToReturn[:, iFirstTokenIndex ,:] = CLS_SCALAR\n",
    "\n",
    "        # cnl: end of each channel \n",
    "        aToReturn[:, iLastTokenIndex ,:] = CNL_SCALAR\n",
    "\n",
    "        # lookback window: after cls \n",
    "        iLookbackStartIndex = iFirstTokenIndex+1\n",
    "        iLookbackEndIndex = iLookbackStartIndex + iNrOfLookbackPatches - 1\n",
    "\n",
    "        aToReturn[:, iLookbackStartIndex:(iLookbackEndIndex+1) ,:] = arr[:, 0:iNrOfLookbackPatches, :, i]\n",
    "\n",
    "\n",
    "        # forecast window: \n",
    "        iForecastStartIndex = iLookbackEndIndex+2 # (there is [SEP] between end of lookback and start of forecast)\n",
    "        iForecastEndIndex = iForecastStartIndex + iNrOfForecastPatches - 1 \n",
    "\n",
    "        aToReturn[:, iForecastStartIndex:(iForecastEndIndex+1) ,:] = arr[:, -iNrOfForecastPatches:, :, i]\n",
    "\n",
    "\n",
    "        # sep\n",
    "        aToReturn[:, iLookbackEndIndex + 1 ,:] = SEP_SCALAR # first [sep] is after end of lookback\n",
    "        aToReturn[:, iForecastEndIndex + 1 ,:] = SEP_SCALAR # second [sep] is after end of foreacast\n",
    "\n",
    "\n",
    "    return aToReturn\n",
    "\n",
    "\n",
    "aDistribution = aAddSpecialTokens(aDistribution)\n",
    "aDynamicDigits = aAddSpecialTokens(aDynamicDigits)\n",
    "aTrend = aAddSpecialTokens(aTrend)\n",
    "aSeasonality = aAddSpecialTokens(aSeasonality)\n",
    "aKnown = aAddSpecialTokens(aKnown)\n",
    "aObserved = aAddSpecialTokens(aObserved)"
   ]
  },
  {
   "cell_type": "code",
   "execution_count": 6,
   "id": "21ea3009-77d0-46f2-a2cb-4d49406612ba",
   "metadata": {},
   "outputs": [],
   "source": [
    "os.makedirs(TOKENIZIED_DATA_FOLDER)\n",
    "np.save(f'{TOKENIZIED_DATA_FOLDER}\\\\distribution.npy', aDistribution)\n",
    "np.save(f'{TOKENIZIED_DATA_FOLDER}\\\\dynamic_digits.npy', aDynamicDigits)\n",
    "np.save(f'{TOKENIZIED_DATA_FOLDER}\\\\trend.npy', aTrend)\n",
    "np.save(f'{TOKENIZIED_DATA_FOLDER}\\\\seasonality.npy', aSeasonality)\n",
    "np.save(f'{TOKENIZIED_DATA_FOLDER}\\\\known.npy', aKnown)\n",
    "np.save(f'{TOKENIZIED_DATA_FOLDER}\\\\observed.npy', aObserved)"
   ]
  }
 ],
 "metadata": {
  "kernelspec": {
   "display_name": "Python 3",
   "language": "python",
   "name": "python3"
  },
  "language_info": {
   "codemirror_mode": {
    "name": "ipython",
    "version": 3
   },
   "file_extension": ".py",
   "mimetype": "text/x-python",
   "name": "python",
   "nbconvert_exporter": "python",
   "pygments_lexer": "ipython3",
   "version": "3.7.10"
  }
 },
 "nbformat": 4,
 "nbformat_minor": 5
}
