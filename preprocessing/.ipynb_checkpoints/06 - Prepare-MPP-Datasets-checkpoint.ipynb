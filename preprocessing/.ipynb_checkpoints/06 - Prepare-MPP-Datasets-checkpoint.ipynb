{
 "cells": [
  {
   "cell_type": "markdown",
   "id": "7df4ed17-c7b2-43bb-bafe-44ac1997ee0b",
   "metadata": {},
   "source": [
    "Inputs:\n",
    "\n",
    "    * Tokenized data.\n",
    "    \n",
    "Analysis:\n",
    "\n",
    "    * Mask some of the inputs tokens that are not special ones. Use MASK_RATE.\n",
    "    \n",
    "Outputs:\n",
    "\n",
    "    * Masked tokenized data. Output dataset is same as unmasked inputs."
   ]
  },
  {
   "cell_type": "code",
   "execution_count": 1,
   "id": "b182d307-c41c-466d-ae80-2e93d70b660e",
   "metadata": {},
   "outputs": [],
   "source": [
    "import numpy as np\n",
    "\n",
    "import constants as c\n",
    "\n",
    "import os\n",
    "\n",
    "import shutil"
   ]
  },
  {
   "cell_type": "code",
   "execution_count": 2,
   "id": "f8175b09-80a5-496c-9167-f5212f5cbf8c",
   "metadata": {},
   "outputs": [],
   "source": [
    "MASKED_PATCH_PREDICTION_DATA_FOLDER = c.MASKED_PATCH_PREDICTION_DATA_FOLDER\n",
    "\n",
    "TOKENIZIED_DATA_FOLDER = c.TOKENIZIED_DATA_FOLDER\n",
    "\n",
    "MASK_RATE = c.MASK_RATE\n",
    "\n",
    "MSK_SCALAR = c.MSK_SCALAR\n",
    "\n",
    "\n",
    "FORECAST_HORIZON = c.FORECAST_HORIZON\n",
    "LOOKBACK_COEFFICIENT = c.LOOKBACK_COEFFICIENT\n",
    "PATCH_SIZE = c.PATCH_SIZE\n",
    "\n",
    "iNrOfLookbackPatches = int((FORECAST_HORIZON*LOOKBACK_COEFFICIENT)/PATCH_SIZE)\n",
    "iNrOfForecastPatches = int(FORECAST_HORIZON/PATCH_SIZE)"
   ]
  },
  {
   "cell_type": "code",
   "execution_count": 3,
   "id": "ebd53153-0078-456e-93d7-3210e0782375",
   "metadata": {},
   "outputs": [],
   "source": [
    "if os.path.exists(MASKED_PATCH_PREDICTION_DATA_FOLDER) == True:\n",
    "    shutil.rmtree(MASKED_PATCH_PREDICTION_DATA_FOLDER)"
   ]
  },
  {
   "cell_type": "code",
   "execution_count": 4,
   "id": "f2c6069b-a17c-4e8e-a8c1-7defa200d27e",
   "metadata": {},
   "outputs": [],
   "source": [
    "aDistribution = np.load(f'{TOKENIZIED_DATA_FOLDER}\\\\distribution.npy')\n",
    "aDynamicDigits = np.load(f'{TOKENIZIED_DATA_FOLDER}\\\\dynamic_digits.npy')\n",
    "aTrend = np.load(f'{TOKENIZIED_DATA_FOLDER}\\\\trend.npy')\n",
    "aSeasonality = np.load(f'{TOKENIZIED_DATA_FOLDER}\\\\seasonality.npy')\n",
    "aKnown = np.load(f'{TOKENIZIED_DATA_FOLDER}\\\\known.npy')\n",
    "aObserved = np.load(f'{TOKENIZIED_DATA_FOLDER}\\\\observed.npy')"
   ]
  },
  {
   "cell_type": "code",
   "execution_count": 5,
   "id": "3dfa1c75-f0cc-4701-876a-9dd73dbb2d25",
   "metadata": {},
   "outputs": [],
   "source": [
    "def aGetMspDatasets(aTrueInputs):\n",
    "    aMaskedInputs = aTrueInputs.copy()\n",
    "    \n",
    "    iNrOfSamples = aTrueInputs.shape[0]\n",
    "    iNrOfTimePatches = iNrOfForecastPatches + iNrOfLookbackPatches\n",
    "    iNrOfFeaturesPerChannel = iNrOfTimePatches + 4 \n",
    "    iNrOfChannels = int(aTrueInputs.shape[1]/iNrOfFeaturesPerChannel)\n",
    "    \n",
    "    aLookbackPatchesToMask = np.random.rand(iNrOfSamples, iNrOfLookbackPatches )\n",
    "    aLookbackPatchesToMask = aLookbackPatchesToMask.argsort()[:, :int((MASK_RATE) * (iNrOfLookbackPatches))]\n",
    "    aLookbackPatchesToMask.sort(axis = 1)\n",
    "    \n",
    "    \n",
    "    aForecastPatchesToMask = np.random.rand(iNrOfSamples, iNrOfForecastPatches )\n",
    "    aForecastPatchesToMask = aForecastPatchesToMask.argsort()[:, :int((MASK_RATE) * (iNrOfForecastPatches - 1))] #latest forecast doesn't have delta. \n",
    "    aForecastPatchesToMask.sort(axis = 1)\n",
    "\n",
    "    for i in range(iNrOfChannels):\n",
    "\n",
    "        # cls: beginning of each channel.\n",
    "        iFirstTokenIndex = i * iNrOfFeaturesPerChannel \n",
    "        iLastTokenIndex = iFirstTokenIndex + iNrOfFeaturesPerChannel - 1 \n",
    "\n",
    "        # lookback window: after cls \n",
    "        iLookbackStartIndex = iFirstTokenIndex+1\n",
    "        iLookbackEndIndex = iLookbackStartIndex + iNrOfLookbackPatches - 1\n",
    "\n",
    "        # forecast window: \n",
    "        iForecastStartIndex = iLookbackEndIndex+2 # (there is [SEP] between end of lookback and start of forecast)\n",
    "        iForecastEndIndex = iForecastStartIndex + iNrOfForecastPatches - 1 \n",
    "        \n",
    "        \n",
    "        for j in range(iNrOfLookbackPatches):\n",
    "            ix = (aLookbackPatchesToMask == j).any(axis = 1)\n",
    "            aMaskedInputs[ix, iLookbackStartIndex + j, :] = MSK_SCALAR\n",
    "            \n",
    "        \n",
    "        for j in range(iNrOfForecastPatches):\n",
    "            ix = (aForecastPatchesToMask == j).any(axis = 1)\n",
    "            aMaskedInputs[ix, iForecastStartIndex + j, :] = MSK_SCALAR\n",
    "            \n",
    "    X = aMaskedInputs.copy()\n",
    "    Y = aTrueInputs.copy()\n",
    "\n",
    "    return X, Y\n",
    "    \n",
    "\n",
    "    \n",
    "X_dist, Y_dist = aGetMspDatasets(aDistribution)\n",
    "X_tic, Y_tic = aGetMspDatasets(aDynamicDigits)\n",
    "X_tre, Y_tre = aGetMspDatasets(aTrend)\n",
    "X_sea, Y_sea = aGetMspDatasets(aSeasonality)\n",
    "X_known, Y_known = aGetMspDatasets(aKnown)\n",
    "X_observed, Y_observed = aGetMspDatasets(aObserved)"
   ]
  },
  {
   "cell_type": "code",
   "execution_count": 6,
   "id": "7e4500a6-0f49-4306-b37f-80ef4e2677f7",
   "metadata": {},
   "outputs": [],
   "source": [
    "os.makedirs(MASKED_PATCH_PREDICTION_DATA_FOLDER)\n",
    "np.save(f'{MASKED_PATCH_PREDICTION_DATA_FOLDER}\\\\X_dist.npy', X_dist)\n",
    "np.save(f'{MASKED_PATCH_PREDICTION_DATA_FOLDER}\\\\Y_dist.npy', Y_dist)\n",
    "\n",
    "np.save(f'{MASKED_PATCH_PREDICTION_DATA_FOLDER}\\\\X_tic.npy', X_tic)\n",
    "np.save(f'{MASKED_PATCH_PREDICTION_DATA_FOLDER}\\\\Y_tic.npy', Y_tic)\n",
    "\n",
    "np.save(f'{MASKED_PATCH_PREDICTION_DATA_FOLDER}\\\\X_tre.npy', X_tre)\n",
    "np.save(f'{MASKED_PATCH_PREDICTION_DATA_FOLDER}\\\\Y_tre.npy', Y_tre)\n",
    "\n",
    "np.save(f'{MASKED_PATCH_PREDICTION_DATA_FOLDER}\\\\X_sea.npy', X_sea)\n",
    "np.save(f'{MASKED_PATCH_PREDICTION_DATA_FOLDER}\\\\Y_sea.npy', Y_sea)\n",
    "\n",
    "np.save(f'{MASKED_PATCH_PREDICTION_DATA_FOLDER}\\\\X_known.npy', X_known)\n",
    "np.save(f'{MASKED_PATCH_PREDICTION_DATA_FOLDER}\\\\Y_known.npy', Y_known)\n",
    "\n",
    "np.save(f'{MASKED_PATCH_PREDICTION_DATA_FOLDER}\\\\X_observed.npy', X_observed)\n",
    "np.save(f'{MASKED_PATCH_PREDICTION_DATA_FOLDER}\\\\Y_observed.npy', Y_observed)"
   ]
  }
 ],
 "metadata": {
  "kernelspec": {
   "display_name": "Python 3",
   "language": "python",
   "name": "python3"
  },
  "language_info": {
   "codemirror_mode": {
    "name": "ipython",
    "version": 3
   },
   "file_extension": ".py",
   "mimetype": "text/x-python",
   "name": "python",
   "nbconvert_exporter": "python",
   "pygments_lexer": "ipython3",
   "version": "3.7.10"
  }
 },
 "nbformat": 4,
 "nbformat_minor": 5
}
