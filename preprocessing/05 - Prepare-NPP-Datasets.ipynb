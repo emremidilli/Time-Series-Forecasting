{
 "cells": [
  {
   "cell_type": "markdown",
   "id": "9843b535-edf5-4f91-a068-2ba57cb83e8f",
   "metadata": {},
   "source": [
    "Input:\n",
    "    \n",
    "    * Tokenized inputs.\n",
    "\n",
    "Analysis:\n",
    "\n",
    "    * NSP labels should be balanced:\n",
    "        * 50% true next sequence.\n",
    "        * 50% false next sequence.\n",
    "    \n",
    "    * False next sequences should be built in following strategy:\n",
    "        * 25% adjacent previous\n",
    "        * 25% adjacent next\n",
    "        * 50% shuffled patches.\n",
    "        \n",
    "Output:\n",
    "\n",
    "    * Tokenized data with false next sequences."
   ]
  },
  {
   "cell_type": "code",
   "execution_count": 1,
   "id": "eaceaea4-7b03-4437-b4df-1f5b6b2151e3",
   "metadata": {},
   "outputs": [],
   "source": [
    "import numpy as np\n",
    "\n",
    "import constants as c\n",
    "\n",
    "import os\n",
    "\n",
    "import shutil"
   ]
  },
  {
   "cell_type": "code",
   "execution_count": 2,
   "id": "3655dec9-dee5-4857-bdaa-bf910c45427b",
   "metadata": {},
   "outputs": [],
   "source": [
    "TOKENIZIED_DATA_FOLDER = c.TOKENIZIED_DATA_FOLDER\n",
    "\n",
    "NEXT_PATCH_PREDICTION_DATA_FOLDER = c.NEXT_PATCH_PREDICTION_DATA_FOLDER\n",
    "\n",
    "FORECAST_HORIZON = c.FORECAST_HORIZON\n",
    "LOOKBACK_COEFFICIENT = c.LOOKBACK_COEFFICIENT\n",
    "PATCH_SIZE = c.PATCH_SIZE\n",
    "\n",
    "FALSE_NEXT_PATCH_RATE = c.FALSE_NEXT_PATCH_RATE\n",
    "\n",
    "iNrOfLookbackPatches = int((FORECAST_HORIZON*LOOKBACK_COEFFICIENT)/PATCH_SIZE)\n",
    "iNrOfForecastPatches = int(FORECAST_HORIZON/PATCH_SIZE)"
   ]
  },
  {
   "cell_type": "code",
   "execution_count": 3,
   "id": "4826b0ca-377a-46ee-bdb0-3014af390d61",
   "metadata": {},
   "outputs": [],
   "source": [
    "if os.path.exists(NEXT_PATCH_PREDICTION_DATA_FOLDER) == True:\n",
    "    shutil.rmtree(NEXT_PATCH_PREDICTION_DATA_FOLDER)"
   ]
  },
  {
   "cell_type": "code",
   "execution_count": 4,
   "id": "bab75aba-3e71-4357-a7b3-274fcd6bb260",
   "metadata": {},
   "outputs": [],
   "source": [
    "aDistribution = np.load(f'{TOKENIZIED_DATA_FOLDER}\\\\distribution.npy')\n",
    "aDynamicDigits = np.load(f'{TOKENIZIED_DATA_FOLDER}\\\\dynamic_digits.npy')\n",
    "aTrend = np.load(f'{TOKENIZIED_DATA_FOLDER}\\\\trend.npy')\n",
    "aSeasonality = np.load(f'{TOKENIZIED_DATA_FOLDER}\\\\seasonality.npy')"
   ]
  },
  {
   "cell_type": "code",
   "execution_count": 5,
   "id": "0b95c415-5fdd-4d4e-8ccf-7d06b72ce2e6",
   "metadata": {},
   "outputs": [],
   "source": [
    "def aGetNspDatasets(aTrueInputs):\n",
    "    aFalseInputs = aTrueInputs.copy()\n",
    "\n",
    "    iNrOfTimePatches = iNrOfForecastPatches + iNrOfLookbackPatches\n",
    "    iNrOfFeaturesPerChannel = iNrOfTimePatches + 4 \n",
    "    iNrOfChannels = int(aTrueInputs.shape[1]/iNrOfFeaturesPerChannel)\n",
    "\n",
    "    aFalseOutputs = np.ones(shape = (aTrueInputs.shape[0], iNrOfChannels))\n",
    "\n",
    "    aAdjacentNext = aTrueInputs.copy()\n",
    "    aAdjacentPrev = aTrueInputs.copy()\n",
    "    aShuffled = aTrueInputs.copy()\n",
    "\n",
    "\n",
    "    for i in range(iNrOfChannels):\n",
    "        \n",
    "        # cls: beginning of each channel.\n",
    "        iFirstTokenIndex = i * iNrOfFeaturesPerChannel \n",
    "        iLastTokenIndex = iFirstTokenIndex + iNrOfFeaturesPerChannel - 1 \n",
    "\n",
    "        # lookback window: after cls \n",
    "        iLookbackStartIndex = iFirstTokenIndex+1\n",
    "        iLookbackEndIndex = iLookbackStartIndex + iNrOfLookbackPatches - 1\n",
    "\n",
    "        # forecast window: \n",
    "        iForecastStartIndex = iLookbackEndIndex+2 # (there is [SEP] between end of lookback and start of forecast)\n",
    "        iForecastEndIndex = iForecastStartIndex + iNrOfForecastPatches - 1 \n",
    "\n",
    "\n",
    "\n",
    "        # slide to next\n",
    "        for j in range(iForecastStartIndex, (iForecastEndIndex+1)):\n",
    "            for k in range(aTrueInputs.shape[-1]):\n",
    "                aAdjacentNext[:, j ,k] = np.roll(aTrueInputs[:, j ,k], iNrOfForecastPatches)\n",
    "\n",
    "        # slide to previous\n",
    "        for j in range(iForecastStartIndex, (iForecastEndIndex+1)):\n",
    "                for k in range(aTrueInputs.shape[-1]):\n",
    "                    aAdjacentPrev[:, j ,k] = np.roll(aTrueInputs[:, j ,k], -iNrOfForecastPatches)\n",
    "\n",
    "\n",
    "        # shuffle along the patches\n",
    "        aRand = np.arange(iNrOfForecastPatches)\n",
    "        np.random.shuffle(aRand)\n",
    "\n",
    "        k = 0\n",
    "        for j in range(iForecastStartIndex, (iForecastEndIndex+1)):\n",
    "            aShuffled[:, j ,:] = aTrueInputs[:, iForecastStartIndex:(iForecastEndIndex+1) , :][:, aRand[k],:]\n",
    "\n",
    "            k = k + 1\n",
    "\n",
    "        \n",
    "        \n",
    "        \n",
    "        aRand = np.random.rand(aTrueInputs.shape[0])\n",
    "        aRand2 = np.random.rand(aTrueInputs.shape[0])\n",
    "        \n",
    "        \n",
    "        msk1 = ((aRand <= 0.50) & (aRand2 <= FALSE_NEXT_PATCH_RATE))\n",
    "        msk2 = ((0.50<aRand) & (aRand<= 0.75)& (aRand2 <= FALSE_NEXT_PATCH_RATE))\n",
    "        msk3 = ((0.75<=aRand) & (aRand2 <= FALSE_NEXT_PATCH_RATE))\n",
    "\n",
    "        aFalseInputs[msk1, iForecastStartIndex:(iForecastEndIndex+1),i] = aShuffled[msk1,iForecastStartIndex:(iForecastEndIndex+1),i]\n",
    "        aFalseInputs[msk2, iForecastStartIndex:(iForecastEndIndex+1),i] = aAdjacentNext[msk2, iForecastStartIndex:(iForecastEndIndex+1),i]\n",
    "        aFalseInputs[msk3, iForecastStartIndex:(iForecastEndIndex+1),i] = aAdjacentPrev[msk3, iForecastStartIndex:(iForecastEndIndex+1),i]\n",
    "\n",
    "        aFalseOutputs[msk1, i] = 0\n",
    "        aFalseOutputs[msk2, i] = 0\n",
    "        aFalseOutputs[msk3, i] = 0\n",
    "\n",
    "\n",
    "    return aFalseInputs, aFalseOutputs"
   ]
  },
  {
   "cell_type": "code",
   "execution_count": 6,
   "id": "613ea617-6787-4db9-adae-61c1a5a39871",
   "metadata": {},
   "outputs": [],
   "source": [
    "X_dist, Y_dist = aGetNspDatasets(aDistribution)\n",
    "X_tic, Y_tic = aGetNspDatasets(aDynamicDigits)\n",
    "X_tre, Y_tre = aGetNspDatasets(aTrend)\n",
    "X_sea, Y_sea = aGetNspDatasets(aSeasonality)"
   ]
  },
  {
   "cell_type": "code",
   "execution_count": 7,
   "id": "c80a9782-36e2-439a-b19a-9a08a63d002c",
   "metadata": {},
   "outputs": [],
   "source": [
    "os.makedirs(NEXT_PATCH_PREDICTION_DATA_FOLDER)\n",
    "np.save(f'{NEXT_PATCH_PREDICTION_DATA_FOLDER}\\\\X_dist.npy', X_dist)\n",
    "np.save(f'{NEXT_PATCH_PREDICTION_DATA_FOLDER}\\\\Y_dist.npy', Y_dist)\n",
    "\n",
    "np.save(f'{NEXT_PATCH_PREDICTION_DATA_FOLDER}\\\\X_tic.npy', X_tic)\n",
    "np.save(f'{NEXT_PATCH_PREDICTION_DATA_FOLDER}\\\\Y_tic.npy', Y_tic)\n",
    "\n",
    "np.save(f'{NEXT_PATCH_PREDICTION_DATA_FOLDER}\\\\X_tre.npy', X_tre)\n",
    "np.save(f'{NEXT_PATCH_PREDICTION_DATA_FOLDER}\\\\Y_tre.npy', Y_tre)\n",
    "\n",
    "np.save(f'{NEXT_PATCH_PREDICTION_DATA_FOLDER}\\\\X_sea.npy', X_sea)\n",
    "np.save(f'{NEXT_PATCH_PREDICTION_DATA_FOLDER}\\\\Y_sea.npy', Y_sea)"
   ]
  }
 ],
 "metadata": {
  "kernelspec": {
   "display_name": "Python 3",
   "language": "python",
   "name": "python3"
  },
  "language_info": {
   "codemirror_mode": {
    "name": "ipython",
    "version": 3
   },
   "file_extension": ".py",
   "mimetype": "text/x-python",
   "name": "python",
   "nbconvert_exporter": "python",
   "pygments_lexer": "ipython3",
   "version": "3.7.10"
  }
 },
 "nbformat": 4,
 "nbformat_minor": 5
}
