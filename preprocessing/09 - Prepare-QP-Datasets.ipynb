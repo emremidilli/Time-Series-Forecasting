{
 "cells": [
  {
   "cell_type": "code",
   "execution_count": 1,
   "id": "05b75d36-da3a-4e7f-af8d-5c5ed1713c37",
   "metadata": {},
   "outputs": [],
   "source": [
    "import numpy as np\n",
    "\n",
    "import constants as c\n",
    "\n",
    "import os\n",
    "\n",
    "import shutil\n",
    "\n",
    "from sklearn.preprocessing import OneHotEncoder"
   ]
  },
  {
   "cell_type": "code",
   "execution_count": 2,
   "id": "565bbf81-f647-4865-b982-25128438f7ad",
   "metadata": {},
   "outputs": [],
   "source": [
    "QUANTILE_PREDICTION_DATA_FOLDER = c.QUANTILE_PREDICTION_DATA_FOLDER\n",
    "TOKENIZIED_DATA_FOLDER = c.TOKENIZIED_DATA_FOLDER\n",
    "CONSOLIDATED_CHANNEL_DATA_FOLDER = c.CONSOLIDATED_CHANNEL_DATA_FOLDER\n",
    "\n",
    "MSK_SCALAR = c.MSK_SCALAR\n",
    "\n",
    "FORECAST_HORIZON = c.FORECAST_HORIZON\n",
    "LOOKBACK_COEFFICIENT = c.LOOKBACK_COEFFICIENT\n",
    "PATCH_SIZE = c.PATCH_SIZE\n",
    "\n",
    "iNrOfLookbackPatches = int((FORECAST_HORIZON*LOOKBACK_COEFFICIENT)/PATCH_SIZE)\n",
    "iNrOfForecastPatches = int(FORECAST_HORIZON/PATCH_SIZE)"
   ]
  },
  {
   "cell_type": "code",
   "execution_count": 3,
   "id": "fb594fd6-777d-4b12-bf38-ee0de6f7c638",
   "metadata": {},
   "outputs": [],
   "source": [
    "if os.path.exists(QUANTILE_PREDICTION_DATA_FOLDER) == True:\n",
    "    shutil.rmtree(QUANTILE_PREDICTION_DATA_FOLDER)"
   ]
  },
  {
   "cell_type": "code",
   "execution_count": 4,
   "id": "02f14a0a-9203-4047-a9fe-465bc98eabbb",
   "metadata": {},
   "outputs": [],
   "source": [
    "aDistribution = np.load(f'{TOKENIZIED_DATA_FOLDER}\\\\distribution.npy')\n",
    "aDynamicDigits = np.load(f'{TOKENIZIED_DATA_FOLDER}\\\\dynamic_digits.npy')\n",
    "aTrend = np.load(f'{TOKENIZIED_DATA_FOLDER}\\\\trend.npy')\n",
    "aSeasonality = np.load(f'{TOKENIZIED_DATA_FOLDER}\\\\seasonality.npy')\n",
    "aKnown = np.load(f'{TOKENIZIED_DATA_FOLDER}\\\\known.npy')\n",
    "aObserved = np.load(f'{TOKENIZIED_DATA_FOLDER}\\\\observed.npy')\n",
    "\n",
    "aQuantiles = np.load(f'{CONSOLIDATED_CHANNEL_DATA_FOLDER}\\\\quantiles.npy')\n",
    "\n",
    "aStaticCovariates = np.load(f'{CONSOLIDATED_CHANNEL_DATA_FOLDER}\\\\static_covariates.npy')"
   ]
  },
  {
   "cell_type": "code",
   "execution_count": 5,
   "id": "d419560c-c24b-4ebd-9927-5bcebcee5487",
   "metadata": {
    "tags": []
   },
   "outputs": [],
   "source": [
    "def aGetQpDatasets(aTrueInput):\n",
    "    aMaskedInput = aTrueInput.copy()\n",
    "\n",
    "    iNrOfTimePatches = iNrOfForecastPatches + iNrOfLookbackPatches\n",
    "    iNrOfFeaturesPerChannel = iNrOfTimePatches + 4 \n",
    "    iNrOfChannels = int(aTrueInput.shape[1]/iNrOfFeaturesPerChannel)\n",
    "    iNrOfSamples = aTrueInput.shape[0]\n",
    "\n",
    "    for i in range(iNrOfChannels):\n",
    "        # cls: beginning of each channel.\n",
    "        iFirstTokenIndex = i * iNrOfFeaturesPerChannel \n",
    "        iLastTokenIndex = iFirstTokenIndex + iNrOfFeaturesPerChannel - 1 \n",
    "\n",
    "        # lookback window: after cls \n",
    "        iLookbackStartIndex = iFirstTokenIndex+1\n",
    "        iLookbackEndIndex = iLookbackStartIndex + iNrOfLookbackPatches - 1\n",
    "\n",
    "        # forecast window: \n",
    "        iForecastStartIndex = iLookbackEndIndex+2 # (there is [SEP] between end of lookback and start of forecast)\n",
    "        iForecastEndIndex = iForecastStartIndex + iNrOfForecastPatches - 1\n",
    "\n",
    "\n",
    "        for j in range(iNrOfForecastPatches):\n",
    "            aMaskedInput[:, iForecastStartIndex + j, :] = MSK_SCALAR\n",
    "\n",
    "            \n",
    "    X = aMaskedInput.copy() \n",
    "    \n",
    "    return X\n",
    "\n",
    "\n",
    "\n",
    "X_dist = aGetQpDatasets(aDistribution)\n",
    "X_tic = aGetQpDatasets(aDynamicDigits)\n",
    "X_tre = aGetQpDatasets(aTrend)\n",
    "X_sea = aGetQpDatasets(aSeasonality)\n",
    "X_known = aKnown.copy()\n",
    "X_observed = aGetQpDatasets(aObserved)\n",
    "X_static = aStaticCovariates.copy()\n",
    "Y = aQuantiles.copy()\n",
    "\n",
    "os.makedirs(QUANTILE_PREDICTION_DATA_FOLDER)\n",
    "np.save(f'{QUANTILE_PREDICTION_DATA_FOLDER}\\\\X_dist.npy', X_dist)\n",
    "np.save(f'{QUANTILE_PREDICTION_DATA_FOLDER}\\\\X_tic.npy', X_tic)\n",
    "np.save(f'{QUANTILE_PREDICTION_DATA_FOLDER}\\\\X_tre.npy', X_tre)\n",
    "np.save(f'{QUANTILE_PREDICTION_DATA_FOLDER}\\\\X_sea.npy', X_sea)\n",
    "np.save(f'{QUANTILE_PREDICTION_DATA_FOLDER}\\\\X_known.npy', X_known)\n",
    "np.save(f'{QUANTILE_PREDICTION_DATA_FOLDER}\\\\X_observed.npy', X_observed)\n",
    "np.save(f'{QUANTILE_PREDICTION_DATA_FOLDER}\\\\X_static.npy', X_static)\n",
    "np.save(f'{QUANTILE_PREDICTION_DATA_FOLDER}\\\\Y.npy', Y)"
   ]
  }
 ],
 "metadata": {
  "kernelspec": {
   "display_name": "Python 3",
   "language": "python",
   "name": "python3"
  },
  "language_info": {
   "codemirror_mode": {
    "name": "ipython",
    "version": 3
   },
   "file_extension": ".py",
   "mimetype": "text/x-python",
   "name": "python",
   "nbconvert_exporter": "python",
   "pygments_lexer": "ipython3",
   "version": "3.7.10"
  }
 },
 "nbformat": 4,
 "nbformat_minor": 5
}
